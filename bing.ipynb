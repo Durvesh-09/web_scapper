{
 "cells": [
  {
   "cell_type": "code",
   "execution_count": null,
   "metadata": {},
   "outputs": [],
   "source": []
  },
  {
   "cell_type": "code",
   "execution_count": 16,
   "metadata": {},
   "outputs": [],
   "source": [
    "import requests\n",
    "import bs4\n",
    "import json\n",
    "import pandas as pd"
   ]
  },
  {
   "cell_type": "code",
   "execution_count": 17,
   "metadata": {},
   "outputs": [],
   "source": [
    "with open(\"C:\\\\Users\\\\yashvardhan_Jadhav\\\\Desktop\\\\config.json\",\"r\") as file:\n",
    "    jsonData = json.load(file)"
   ]
  },
  {
   "cell_type": "code",
   "execution_count": 18,
   "metadata": {},
   "outputs": [],
   "source": [
    "companies= []\n",
    "services = []\n",
    "page_no = []"
   ]
  },
  {
   "cell_type": "code",
   "execution_count": 19,
   "metadata": {},
   "outputs": [],
   "source": [
    "for infos in jsonData:\n",
    "    companies.append(jsonData[infos].get(\"company\"))\n",
    "    services.append(jsonData[infos].get(\"keyword\"))\n",
    "    page_no.append(jsonData[infos].get(\"PageNo\"))"
   ]
  },
  {
   "cell_type": "code",
   "execution_count": 20,
   "metadata": {},
   "outputs": [],
   "source": [
    "mixedList = [[i,j,k] for i in companies for j in services for k in range(0,page_no[0])]"
   ]
  },
  {
   "cell_type": "code",
   "execution_count": 59,
   "metadata": {},
   "outputs": [],
   "source": [
    "link = []\n",
    "title = []\n",
    "heading4 = []\n",
    "days1 = []\n",
    "\n",
    "for i,j,k in mixedList:\n",
    "    result = requests.get(f\"https://www.bing.com/news/search?q={i}+{j}urlnews/infinitescrollajax?page={k}\")\n",
    "\n",
    "    soup = bs4.BeautifulSoup(result.text,\"lxml\")\n",
    "\n",
    "    # block heading\n",
    "    for i in soup.find_all(\"div\", {\"class\": \"source set_top\"}):\n",
    "        for anch in i.find_all('a'):\n",
    "            heading4.append(anch.text)   \n",
    "            \n",
    "    # # blof title\n",
    "    for item in soup.find_all('a',attrs={'class':'title'}):\n",
    "        title.append(item.text)\n",
    "    # # block days\n",
    "    for i in soup.find_all(\"div\", {\"class\": \"source set_top\"}):\n",
    "        for anch in i.find_all('span'):\n",
    "            days1.append(anch.text)  \n",
    "    # # links\n",
    "    for i in soup.find_all(\"a\", {\"class\": \"title\"}):\n",
    "        link.append(i.get('href'))\n",
    "    while(\"\" in days1):\n",
    "        days1.remove(\"\")"
   ]
  },
  {
   "cell_type": "code",
   "execution_count": 42,
   "metadata": {},
   "outputs": [],
   "source": [
    "# result = requests.get(f\"https://www.bing.com/news/search?q=microsoft+AIurlnews/infinitescrollajax?InfiniteScroll=1\")\n",
    "\n",
    "# soup = bs4.BeautifulSoup(result.text,\"lxml\")"
   ]
  },
  {
   "cell_type": "code",
   "execution_count": 60,
   "metadata": {},
   "outputs": [
    {
     "name": "stdout",
     "output_type": "stream",
     "text": [
      "384\n",
      "384\n",
      "384\n",
      "384\n"
     ]
    }
   ],
   "source": [
    "print(len(title))\n",
    "print(len(link))\n",
    "print(len(heading4))\n",
    "print(len(days1))"
   ]
  },
  {
   "cell_type": "code",
   "execution_count": 61,
   "metadata": {},
   "outputs": [
    {
     "data": {
      "text/html": [
       "<div>\n",
       "<style scoped>\n",
       "    .dataframe tbody tr th:only-of-type {\n",
       "        vertical-align: middle;\n",
       "    }\n",
       "\n",
       "    .dataframe tbody tr th {\n",
       "        vertical-align: top;\n",
       "    }\n",
       "\n",
       "    .dataframe thead th {\n",
       "        text-align: right;\n",
       "    }\n",
       "</style>\n",
       "<table border=\"1\" class=\"dataframe\">\n",
       "  <thead>\n",
       "    <tr style=\"text-align: right;\">\n",
       "      <th></th>\n",
       "      <th>Title</th>\n",
       "      <th>Link</th>\n",
       "      <th>Date</th>\n",
       "      <th>Heading</th>\n",
       "    </tr>\n",
       "  </thead>\n",
       "  <tbody>\n",
       "    <tr>\n",
       "      <th>0</th>\n",
       "      <td>Microsoft will turn off TLS 1.0 and 1.1 in Int...</td>\n",
       "      <td>https://www.neowin.net/news/microsoft-will-tur...</td>\n",
       "      <td>1y</td>\n",
       "      <td>Neowin</td>\n",
       "    </tr>\n",
       "    <tr>\n",
       "      <th>1</th>\n",
       "      <td>Microsoft PowerPoint</td>\n",
       "      <td>https://www.malavida.com/en/soft/microsoft-pow...</td>\n",
       "      <td>1y</td>\n",
       "      <td>WordPad</td>\n",
       "    </tr>\n",
       "    <tr>\n",
       "      <th>2</th>\n",
       "      <td>Microsoft will soon remove WordPad from Window...</td>\n",
       "      <td>https://www.neowin.net/news/microsoft-will-soo...</td>\n",
       "      <td>20d</td>\n",
       "      <td>Neowin</td>\n",
       "    </tr>\n",
       "    <tr>\n",
       "      <th>3</th>\n",
       "      <td>Sign In | Microsoft Teams</td>\n",
       "      <td>https://www.microsoft.com/en-in/microsoft-team...</td>\n",
       "      <td>2y</td>\n",
       "      <td>Microsoft</td>\n",
       "    </tr>\n",
       "    <tr>\n",
       "      <th>4</th>\n",
       "      <td>Microsoft Edge</td>\n",
       "      <td>https://www.malavida.com/en/soft/microsoft-edge/</td>\n",
       "      <td>7d</td>\n",
       "      <td>WordPad</td>\n",
       "    </tr>\n",
       "    <tr>\n",
       "      <th>...</th>\n",
       "      <td>...</td>\n",
       "      <td>...</td>\n",
       "      <td>...</td>\n",
       "      <td>...</td>\n",
       "    </tr>\n",
       "    <tr>\n",
       "      <th>379</th>\n",
       "      <td>Tesla: Buy, Sell, or Hold?</td>\n",
       "      <td>https://www.fool.com/investing/2024/01/02/tesl...</td>\n",
       "      <td>22d</td>\n",
       "      <td>The Motley Fool</td>\n",
       "    </tr>\n",
       "    <tr>\n",
       "      <th>380</th>\n",
       "      <td>Can Tesla produce a Rs 20 lakh EV for India?</td>\n",
       "      <td>https://www.msn.com/en-in/news/other/can-tesla...</td>\n",
       "      <td>26d</td>\n",
       "      <td>Hosted on MSN</td>\n",
       "    </tr>\n",
       "    <tr>\n",
       "      <th>381</th>\n",
       "      <td>Tesla vs BYD: BIG blow to Elon Musk as Chinese...</td>\n",
       "      <td>https://www.indiatvnews.com/auto/byd-the-chine...</td>\n",
       "      <td>20d</td>\n",
       "      <td>India TV</td>\n",
       "    </tr>\n",
       "    <tr>\n",
       "      <th>382</th>\n",
       "      <td>With The Cybertruck, Tesla Signals The Death O...</td>\n",
       "      <td>https://www.msn.com/en-in/autos/news/with-the-...</td>\n",
       "      <td>21d</td>\n",
       "      <td>Hosted on MSN</td>\n",
       "    </tr>\n",
       "    <tr>\n",
       "      <th>383</th>\n",
       "      <td>Tesla starts selling refreshed Model 3 in the US</td>\n",
       "      <td>https://techcrunch.com/2024/01/10/tesla-refres...</td>\n",
       "      <td>14d</td>\n",
       "      <td>TechCrunch</td>\n",
       "    </tr>\n",
       "  </tbody>\n",
       "</table>\n",
       "<p>384 rows × 4 columns</p>\n",
       "</div>"
      ],
      "text/plain": [
       "                                                 Title  \\\n",
       "0    Microsoft will turn off TLS 1.0 and 1.1 in Int...   \n",
       "1                                 Microsoft PowerPoint   \n",
       "2    Microsoft will soon remove WordPad from Window...   \n",
       "3                            Sign In | Microsoft Teams   \n",
       "4                                       Microsoft Edge   \n",
       "..                                                 ...   \n",
       "379                         Tesla: Buy, Sell, or Hold?   \n",
       "380       Can Tesla produce a Rs 20 lakh EV for India?   \n",
       "381  Tesla vs BYD: BIG blow to Elon Musk as Chinese...   \n",
       "382  With The Cybertruck, Tesla Signals The Death O...   \n",
       "383   Tesla starts selling refreshed Model 3 in the US   \n",
       "\n",
       "                                                  Link Date          Heading  \n",
       "0    https://www.neowin.net/news/microsoft-will-tur...   1y           Neowin  \n",
       "1    https://www.malavida.com/en/soft/microsoft-pow...   1y          WordPad  \n",
       "2    https://www.neowin.net/news/microsoft-will-soo...  20d           Neowin  \n",
       "3    https://www.microsoft.com/en-in/microsoft-team...   2y        Microsoft  \n",
       "4     https://www.malavida.com/en/soft/microsoft-edge/   7d          WordPad  \n",
       "..                                                 ...  ...              ...  \n",
       "379  https://www.fool.com/investing/2024/01/02/tesl...  22d  The Motley Fool  \n",
       "380  https://www.msn.com/en-in/news/other/can-tesla...  26d    Hosted on MSN  \n",
       "381  https://www.indiatvnews.com/auto/byd-the-chine...  20d         India TV  \n",
       "382  https://www.msn.com/en-in/autos/news/with-the-...  21d    Hosted on MSN  \n",
       "383  https://techcrunch.com/2024/01/10/tesla-refres...  14d       TechCrunch  \n",
       "\n",
       "[384 rows x 4 columns]"
      ]
     },
     "execution_count": 61,
     "metadata": {},
     "output_type": "execute_result"
    }
   ],
   "source": [
    "df = pd.DataFrame(list(zip(title, link, days1, heading4)), columns=['Title','Link', 'Date', 'Heading'])\n",
    "df"
   ]
  },
  {
   "cell_type": "code",
   "execution_count": 57,
   "metadata": {},
   "outputs": [],
   "source": []
  },
  {
   "cell_type": "code",
   "execution_count": 53,
   "metadata": {},
   "outputs": [
    {
     "name": "stdout",
     "output_type": "stream",
     "text": [
      "365\n"
     ]
    }
   ],
   "source": []
  },
  {
   "cell_type": "code",
   "execution_count": null,
   "metadata": {},
   "outputs": [],
   "source": []
  }
 ],
 "metadata": {
  "kernelspec": {
   "display_name": "Python 3",
   "language": "python",
   "name": "python3"
  },
  "language_info": {
   "codemirror_mode": {
    "name": "ipython",
    "version": 3
   },
   "file_extension": ".py",
   "mimetype": "text/x-python",
   "name": "python",
   "nbconvert_exporter": "python",
   "pygments_lexer": "ipython3",
   "version": "3.12.1"
  }
 },
 "nbformat": 4,
 "nbformat_minor": 2
}
